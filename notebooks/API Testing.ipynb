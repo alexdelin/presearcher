{
 "cells": [
  {
   "cell_type": "code",
   "execution_count": 9,
   "metadata": {},
   "outputs": [],
   "source": [
    "import requests\n",
    "BASE_URL = 'http://localhost:8080/'\n",
    "PRIMARY_USER = 'alex'"
   ]
  },
  {
   "cell_type": "code",
   "execution_count": 10,
   "metadata": {},
   "outputs": [
    {
     "name": "stdout",
     "output_type": "stream",
     "text": [
      "[\"alex\", \"bob\"]\n"
     ]
    }
   ],
   "source": [
    "# Get Profiles\n",
    "response = requests.get(BASE_URL + 'profiles')\n",
    "print(response.text)"
   ]
  },
  {
   "cell_type": "code",
   "execution_count": 8,
   "metadata": {},
   "outputs": [
    {
     "name": "stdout",
     "output_type": "stream",
     "text": [
      "Success\n"
     ]
    }
   ],
   "source": [
    "# Create New Profile\n",
    "response = requests.post(BASE_URL + 'profiles?profile_name=' + PRIMARY_USER)\n",
    "print(response.text)"
   ]
  },
  {
   "cell_type": "code",
   "execution_count": 3,
   "metadata": {},
   "outputs": [
    {
     "name": "stdout",
     "output_type": "stream",
     "text": [
      "Success!\n"
     ]
    }
   ],
   "source": [
    "# Fetch New Content\n",
    "response = requests.get(BASE_URL + 'fetch')\n",
    "print(response.text)"
   ]
  },
  {
   "cell_type": "code",
   "execution_count": 11,
   "metadata": {},
   "outputs": [
    {
     "name": "stdout",
     "output_type": "stream",
     "text": [
      "Success!\n"
     ]
    }
   ],
   "source": [
    "# Send Feedback\n",
    "data = {\n",
    "    \"profile_name\": PRIMARY_USER,\n",
    "    \"feedback_type\": \"neg\",\n",
    "    \"content\": {\n",
    "        \"title\": \"Modeling and Performance of Uplink Cache-Enabled Massive MIMO Heterogeneous The Impact of Timestamp Granularity in Optimistic Concurrency Control\",\n",
    "        \"description\": \"\"\n",
    "    }\n",
    "}\n",
    "response = requests.post(BASE_URL + 'feedback', json=data)\n",
    "print(response.text)"
   ]
  },
  {
   "cell_type": "code",
   "execution_count": 12,
   "metadata": {},
   "outputs": [
    {
     "name": "stdout",
     "output_type": "stream",
     "text": [
      "Success!\n"
     ]
    }
   ],
   "source": [
    "# Re-Score Content\n",
    "response = requests.get(BASE_URL + 'score')\n",
    "print(response.text)"
   ]
  },
  {
   "cell_type": "code",
   "execution_count": 15,
   "metadata": {},
   "outputs": [
    {
     "name": "stdout",
     "output_type": "stream",
     "text": [
      "{'title': 'Title-Guided Encoding for Keyphrase Generation. (arXiv:1808.08575v4 [cs.CL] UPDATED)', 'description': '<p>Keyphrase generation (KG) aims to generate a set of keyphrases given a\\ndocument, which is a fundamental task in natural language processing (NLP).\\nMost previous methods solve this problem in an extractive manner, while\\nrecently, several attempts are made under the generative setting using deep\\nneural networks. However, the state-of-the-art generative methods simply treat\\nthe document title and the document main body equally, ignoring the leading\\nrole of the title to the overall document. To solve this problem, we introduce\\na new model called Title-Guided Network (TG-Net) for automatic keyphrase\\ngeneration task based on the encoder-decoder architecture with two new\\nfeatures: (i) the title is additionally employed as a query-like input, and\\n(ii) a title-guided encoder gathers the relevant information from the title to\\neach word in the document. Experiments on a range of KG datasets demonstrate\\nthat our model outperforms the state-of-the-art models with a large margin,\\nespecially for documents with either very low or very high title length ratios.\\n</p>', 'link': 'http://arxiv.org/abs/1808.08575', 'authors': ['<a href=\"http://arxiv.org/find/cs/1/au:+Chen_W/0/1/0/all/0/1\">Wang Chen</a>, <a href=\"http://arxiv.org/find/cs/1/au:+Gao_Y/0/1/0/all/0/1\">Yifan Gao</a>, <a href=\"http://arxiv.org/find/cs/1/au:+Zhang_J/0/1/0/all/0/1\">Jiani Zhang</a>, <a href=\"http://arxiv.org/find/cs/1/au:+King_I/0/1/0/all/0/1\">Irwin King</a>, <a href=\"http://arxiv.org/find/cs/1/au:+Lyu_M/0/1/0/all/0/1\">Michael R. Lyu</a>'], 'timestamp': '2018-11-16T17:28:40', 'profiles': {'alex': 0.9116704173210464}, 'score': 0.91}\n"
     ]
    }
   ],
   "source": [
    "# Get Top Content for a user\n",
    "response = requests.get(BASE_URL + 'content/' + PRIMARY_USER)\n",
    "print(response.json()[0])"
   ]
  },
  {
   "cell_type": "code",
   "execution_count": null,
   "metadata": {},
   "outputs": [],
   "source": []
  },
  {
   "cell_type": "code",
   "execution_count": null,
   "metadata": {},
   "outputs": [],
   "source": []
  },
  {
   "cell_type": "code",
   "execution_count": null,
   "metadata": {},
   "outputs": [],
   "source": []
  },
  {
   "cell_type": "code",
   "execution_count": null,
   "metadata": {},
   "outputs": [],
   "source": []
  }
 ],
 "metadata": {
  "kernelspec": {
   "display_name": "Python 3",
   "language": "python",
   "name": "python3"
  },
  "language_info": {
   "codemirror_mode": {
    "name": "ipython",
    "version": 3
   },
   "file_extension": ".py",
   "mimetype": "text/x-python",
   "name": "python",
   "nbconvert_exporter": "python",
   "pygments_lexer": "ipython3",
   "version": "3.6.4"
  }
 },
 "nbformat": 4,
 "nbformat_minor": 2
}
